{
 "cells": [
  {
   "cell_type": "markdown",
   "id": "9c1939c6",
   "metadata": {},
   "source": [
    "## Dictionaries\n",
    "\n",
    "If you can only know one data structure, this is the one to know."
   ]
  },
  {
   "cell_type": "code",
   "execution_count": 1,
   "id": "9bf4ba22",
   "metadata": {},
   "outputs": [],
   "source": [
    "phone = { 'Jenni':8675309, 'Emergency':911}"
   ]
  },
  {
   "cell_type": "code",
   "execution_count": 2,
   "id": "34d7a45f",
   "metadata": {},
   "outputs": [
    {
     "data": {
      "text/plain": [
       "8675309"
      ]
     },
     "execution_count": 2,
     "metadata": {},
     "output_type": "execute_result"
    }
   ],
   "source": [
    "phone['Jenni']"
   ]
  },
  {
   "cell_type": "code",
   "execution_count": 3,
   "id": "1edc3d3d",
   "metadata": {},
   "outputs": [
    {
     "ename": "KeyError",
     "evalue": "'Fred'",
     "output_type": "error",
     "traceback": [
      "\u001b[0;31m---------------------------------------------------------------------------\u001b[0m",
      "\u001b[0;31mKeyError\u001b[0m                                  Traceback (most recent call last)",
      "\u001b[0;32m/run/user/1000/ipykernel_1178703/3234263447.py\u001b[0m in \u001b[0;36m<module>\u001b[0;34m\u001b[0m\n\u001b[0;32m----> 1\u001b[0;31m \u001b[0mphone\u001b[0m\u001b[0;34m[\u001b[0m\u001b[0;34m'Fred'\u001b[0m\u001b[0;34m]\u001b[0m\u001b[0;34m\u001b[0m\u001b[0;34m\u001b[0m\u001b[0m\n\u001b[0m",
      "\u001b[0;31mKeyError\u001b[0m: 'Fred'"
     ]
    }
   ],
   "source": [
    "phone['Fred']"
   ]
  },
  {
   "cell_type": "code",
   "execution_count": 4,
   "id": "7f69eb6d",
   "metadata": {},
   "outputs": [],
   "source": [
    "phone['Fred'] = 5551234"
   ]
  },
  {
   "cell_type": "code",
   "execution_count": 5,
   "id": "ec366648",
   "metadata": {},
   "outputs": [
    {
     "data": {
      "text/plain": [
       "5551234"
      ]
     },
     "execution_count": 5,
     "metadata": {},
     "output_type": "execute_result"
    }
   ],
   "source": [
    "phone['Fred']"
   ]
  },
  {
   "cell_type": "code",
   "execution_count": 6,
   "id": "c99a57c5",
   "metadata": {},
   "outputs": [
    {
     "data": {
      "text/plain": [
       "dict_keys(['Jenni', 'Emergency', 'Fred'])"
      ]
     },
     "execution_count": 6,
     "metadata": {},
     "output_type": "execute_result"
    }
   ],
   "source": [
    "phone.keys()"
   ]
  },
  {
   "cell_type": "code",
   "execution_count": 7,
   "id": "9e421056",
   "metadata": {},
   "outputs": [
    {
     "ename": "TypeError",
     "evalue": "'dict_keys' object is not subscriptable",
     "output_type": "error",
     "traceback": [
      "\u001b[0;31m---------------------------------------------------------------------------\u001b[0m",
      "\u001b[0;31mTypeError\u001b[0m                                 Traceback (most recent call last)",
      "\u001b[0;32m/run/user/1000/ipykernel_1178703/23850742.py\u001b[0m in \u001b[0;36m<module>\u001b[0;34m\u001b[0m\n\u001b[0;32m----> 1\u001b[0;31m \u001b[0mphone\u001b[0m\u001b[0;34m.\u001b[0m\u001b[0mkeys\u001b[0m\u001b[0;34m(\u001b[0m\u001b[0;34m)\u001b[0m\u001b[0;34m[\u001b[0m\u001b[0;36m0\u001b[0m\u001b[0;34m]\u001b[0m\u001b[0;34m\u001b[0m\u001b[0;34m\u001b[0m\u001b[0m\n\u001b[0m",
      "\u001b[0;31mTypeError\u001b[0m: 'dict_keys' object is not subscriptable"
     ]
    }
   ],
   "source": [
    "phone.keys()[0]"
   ]
  },
  {
   "cell_type": "code",
   "execution_count": 8,
   "id": "e3bf4d5e",
   "metadata": {},
   "outputs": [
    {
     "data": {
      "text/plain": [
       "'Jenni'"
      ]
     },
     "execution_count": 8,
     "metadata": {},
     "output_type": "execute_result"
    }
   ],
   "source": [
    "list(phone.keys())[0]"
   ]
  },
  {
   "cell_type": "code",
   "execution_count": 9,
   "id": "24d31b32",
   "metadata": {},
   "outputs": [
    {
     "data": {
      "text/plain": [
       "dict_values([8675309, 911, 5551234])"
      ]
     },
     "execution_count": 9,
     "metadata": {},
     "output_type": "execute_result"
    }
   ],
   "source": [
    "phone.values()"
   ]
  },
  {
   "cell_type": "code",
   "execution_count": 10,
   "id": "406fd311",
   "metadata": {},
   "outputs": [
    {
     "name": "stdout",
     "output_type": "stream",
     "text": [
      "8675309\n",
      "911\n",
      "5551234\n"
     ]
    }
   ],
   "source": [
    "for i in phone.keys():\n",
    "    print(phone[i])"
   ]
  },
  {
   "cell_type": "code",
   "execution_count": 13,
   "id": "adc35b62",
   "metadata": {},
   "outputs": [],
   "source": [
    "s = {2,3,5,7}"
   ]
  },
  {
   "cell_type": "code",
   "execution_count": 16,
   "id": "41518535",
   "metadata": {},
   "outputs": [
    {
     "data": {
      "text/plain": [
       "4"
      ]
     },
     "execution_count": 16,
     "metadata": {},
     "output_type": "execute_result"
    }
   ],
   "source": [
    "len(s)"
   ]
  },
  {
   "cell_type": "code",
   "execution_count": 17,
   "id": "634a1e4f",
   "metadata": {},
   "outputs": [
    {
     "data": {
      "text/plain": [
       "{3, 5}"
      ]
     },
     "execution_count": 17,
     "metadata": {},
     "output_type": "execute_result"
    }
   ],
   "source": [
    "s.intersection({3,5,9})"
   ]
  },
  {
   "cell_type": "code",
   "execution_count": 18,
   "id": "043f5f53",
   "metadata": {},
   "outputs": [
    {
     "ename": "AttributeError",
     "evalue": "'set' object has no attribute 'map'",
     "output_type": "error",
     "traceback": [
      "\u001b[0;31m---------------------------------------------------------------------------\u001b[0m",
      "\u001b[0;31mAttributeError\u001b[0m                            Traceback (most recent call last)",
      "\u001b[0;32m/run/user/1000/ipykernel_1178703/3940961213.py\u001b[0m in \u001b[0;36m<module>\u001b[0;34m\u001b[0m\n\u001b[0;32m----> 1\u001b[0;31m \u001b[0ms\u001b[0m\u001b[0;34m.\u001b[0m\u001b[0mmap\u001b[0m\u001b[0;34m(\u001b[0m\u001b[0;32mlambda\u001b[0m \u001b[0mx\u001b[0m\u001b[0;34m:\u001b[0m \u001b[0mx\u001b[0m\u001b[0;34m+\u001b[0m\u001b[0;36m1\u001b[0m\u001b[0;34m)\u001b[0m\u001b[0;34m\u001b[0m\u001b[0;34m\u001b[0m\u001b[0m\n\u001b[0m",
      "\u001b[0;31mAttributeError\u001b[0m: 'set' object has no attribute 'map'"
     ]
    }
   ],
   "source": [
    "s."
   ]
  },
  {
   "cell_type": "code",
   "execution_count": null,
   "id": "1a271e54",
   "metadata": {},
   "outputs": [],
   "source": []
  }
 ],
 "metadata": {
  "kernelspec": {
   "display_name": "Python 3",
   "language": "python",
   "name": "python3"
  },
  "language_info": {
   "codemirror_mode": {
    "name": "ipython",
    "version": 3
   },
   "file_extension": ".py",
   "mimetype": "text/x-python",
   "name": "python",
   "nbconvert_exporter": "python",
   "pygments_lexer": "ipython3",
   "version": "3.9.6"
  }
 },
 "nbformat": 4,
 "nbformat_minor": 5
}
