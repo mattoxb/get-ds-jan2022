{
 "cells": [
  {
   "cell_type": "markdown",
   "id": "fff4be11-dc71-475d-a565-c6df0ff6e59c",
   "metadata": {},
   "source": [
    "## Data Structures in Python"
   ]
  },
  {
   "cell_type": "markdown",
   "id": "734fdcff-0c58-498d-b867-73b5f9f9c941",
   "metadata": {},
   "source": [
    "### Lists!\n",
    "\n",
    "First let's define a couple of lists.  These are based on Arrays, not Linked Lists, so access time is very fast!"
   ]
  },
  {
   "cell_type": "code",
   "execution_count": 1,
   "id": "965c8ca0-4a95-4b65-bfb9-a269aa89b5c6",
   "metadata": {
    "tags": []
   },
   "outputs": [],
   "source": [
    "x = [1,1,2,3,5,8,13,21]"
   ]
  },
  {
   "cell_type": "code",
   "execution_count": 2,
   "id": "d969d306-41b6-412e-a02d-b63e5adb9276",
   "metadata": {
    "tags": []
   },
   "outputs": [],
   "source": [
    "y = [2,4,6,8,10]"
   ]
  },
  {
   "cell_type": "markdown",
   "id": "14d011b2-cf19-4709-b4c8-6fffd16a9d46",
   "metadata": {},
   "source": [
    "The first thing we want to try is getting an element out of a list.  The first element has index zero!"
   ]
  },
  {
   "cell_type": "code",
   "execution_count": 3,
   "id": "b4a23194-0e68-416d-9936-287e914ba11f",
   "metadata": {
    "tags": []
   },
   "outputs": [
    {
     "data": {
      "text/plain": [
       "1"
      ]
     },
     "execution_count": 3,
     "metadata": {},
     "output_type": "execute_result"
    }
   ],
   "source": [
    "x[0]"
   ]
  },
  {
   "cell_type": "code",
   "execution_count": 4,
   "id": "a6237c3d-eed3-4ac9-9a41-34be37d551be",
   "metadata": {
    "tags": []
   },
   "outputs": [
    {
     "data": {
      "text/plain": [
       "2"
      ]
     },
     "execution_count": 4,
     "metadata": {},
     "output_type": "execute_result"
    }
   ],
   "source": [
    "y[0]"
   ]
  },
  {
   "cell_type": "code",
   "execution_count": 5,
   "id": "78c9b0d0-8b4a-4b5a-9454-0c4ee678e1b7",
   "metadata": {
    "tags": []
   },
   "outputs": [
    {
     "data": {
      "text/plain": [
       "5"
      ]
     },
     "execution_count": 5,
     "metadata": {},
     "output_type": "execute_result"
    }
   ],
   "source": [
    "x[4]"
   ]
  },
  {
   "cell_type": "code",
   "execution_count": 6,
   "id": "f9bbb317-443b-4201-9a53-7accfe7c4697",
   "metadata": {
    "tags": []
   },
   "outputs": [
    {
     "ename": "IndexError",
     "evalue": "list index out of range",
     "output_type": "error",
     "traceback": [
      "\u001b[0;31m---------------------------------------------------------------------------\u001b[0m",
      "\u001b[0;31mIndexError\u001b[0m                                Traceback (most recent call last)",
      "\u001b[0;32m/run/user/1000/ipykernel_1180979/3900163954.py\u001b[0m in \u001b[0;36m<module>\u001b[0;34m\u001b[0m\n\u001b[0;32m----> 1\u001b[0;31m \u001b[0mx\u001b[0m\u001b[0;34m[\u001b[0m\u001b[0;36m999\u001b[0m\u001b[0;34m]\u001b[0m\u001b[0;34m\u001b[0m\u001b[0;34m\u001b[0m\u001b[0m\n\u001b[0m",
      "\u001b[0;31mIndexError\u001b[0m: list index out of range"
     ]
    }
   ],
   "source": [
    "x[999] "
   ]
  },
  {
   "cell_type": "markdown",
   "id": "464c040e-1b0e-4e27-bb5c-50de0dd5b839",
   "metadata": {
    "tags": []
   },
   "source": [
    "We can also look up stuff from the end using negative numbers.  The last element is -1."
   ]
  },
  {
   "cell_type": "code",
   "execution_count": 7,
   "id": "d84f915e-c426-4d14-a809-21b2fb09c040",
   "metadata": {},
   "outputs": [
    {
     "data": {
      "text/plain": [
       "21"
      ]
     },
     "execution_count": 7,
     "metadata": {},
     "output_type": "execute_result"
    }
   ],
   "source": [
    "x[-1]"
   ]
  },
  {
   "cell_type": "code",
   "execution_count": 8,
   "id": "306a0b0e-dd99-4d0d-90eb-3651ea7165a4",
   "metadata": {},
   "outputs": [
    {
     "data": {
      "text/plain": [
       "8"
      ]
     },
     "execution_count": 8,
     "metadata": {},
     "output_type": "execute_result"
    }
   ],
   "source": [
    "x[-3]"
   ]
  },
  {
   "cell_type": "markdown",
   "id": "b46247e7-9a00-426b-aced-1e5aa9f04adf",
   "metadata": {},
   "source": [
    "You can also \"slice\" lists using a colon."
   ]
  },
  {
   "cell_type": "code",
   "execution_count": 9,
   "id": "f9cf276b-a92d-4ad8-8f4f-400891636ecd",
   "metadata": {},
   "outputs": [
    {
     "data": {
      "text/plain": [
       "[1, 1, 2]"
      ]
     },
     "execution_count": 9,
     "metadata": {},
     "output_type": "execute_result"
    }
   ],
   "source": [
    "x[0:3]  # Note: up to but not including 3"
   ]
  },
  {
   "cell_type": "code",
   "execution_count": 10,
   "id": "498056d6-8c98-4a0f-871d-5c53870efc16",
   "metadata": {},
   "outputs": [
    {
     "data": {
      "text/plain": [
       "[3, 5, 8, 13]"
      ]
     },
     "execution_count": 10,
     "metadata": {},
     "output_type": "execute_result"
    }
   ],
   "source": [
    "x[3:-1]"
   ]
  },
  {
   "cell_type": "markdown",
   "id": "06cd3547-8338-460a-9f71-5b51710f64b4",
   "metadata": {},
   "source": [
    "You can append two lists using `+`"
   ]
  },
  {
   "cell_type": "code",
   "execution_count": 11,
   "id": "9bf47593-5d2a-40e3-8546-216688f8979b",
   "metadata": {},
   "outputs": [
    {
     "data": {
      "text/plain": [
       "[1, 1, 2, 3, 5, 8, 13, 21, 2, 4, 6, 8, 10]"
      ]
     },
     "execution_count": 11,
     "metadata": {},
     "output_type": "execute_result"
    }
   ],
   "source": [
    "x + y"
   ]
  },
  {
   "cell_type": "code",
   "execution_count": 12,
   "id": "6ae54284-c02a-42b4-ab91-a3e6d9fb1391",
   "metadata": {},
   "outputs": [
    {
     "data": {
      "text/plain": [
       "[1, 1, 2, 3, 5, 8, 13]"
      ]
     },
     "execution_count": 12,
     "metadata": {},
     "output_type": "execute_result"
    }
   ],
   "source": [
    "x[0:3] + x[3:-1]  # Note this property!"
   ]
  },
  {
   "cell_type": "code",
   "execution_count": 13,
   "id": "0fa2a402-e436-4efe-8be8-408fd3b7e45f",
   "metadata": {},
   "outputs": [
    {
     "data": {
      "text/plain": [
       "[3, 5, 8, 13, 21]"
      ]
     },
     "execution_count": 13,
     "metadata": {},
     "output_type": "execute_result"
    }
   ],
   "source": [
    "x[3:]"
   ]
  },
  {
   "cell_type": "markdown",
   "id": "f924bb57-29a3-4463-8ac1-aef27de5239a",
   "metadata": {},
   "source": [
    "Python comes with a lot of builtin functions."
   ]
  },
  {
   "cell_type": "code",
   "execution_count": 14,
   "id": "6bb6aa9a-9760-4aa4-ab6c-a0eeadf2c1da",
   "metadata": {},
   "outputs": [
    {
     "data": {
      "text/plain": [
       "8"
      ]
     },
     "execution_count": 14,
     "metadata": {},
     "output_type": "execute_result"
    }
   ],
   "source": [
    "len(x)"
   ]
  },
  {
   "cell_type": "code",
   "execution_count": 15,
   "id": "a676c97f-df1c-4cc1-bc61-932bfce12d52",
   "metadata": {},
   "outputs": [],
   "source": [
    "x.append(21)"
   ]
  },
  {
   "cell_type": "code",
   "execution_count": 16,
   "id": "70b45e2b-7680-4e4b-9513-4beef9b89000",
   "metadata": {},
   "outputs": [
    {
     "data": {
      "text/plain": [
       "[1, 1, 2, 3, 5, 8, 13, 21, 21]"
      ]
     },
     "execution_count": 16,
     "metadata": {},
     "output_type": "execute_result"
    }
   ],
   "source": [
    "x"
   ]
  },
  {
   "cell_type": "code",
   "execution_count": 17,
   "id": "a807ae0b-b5b6-4d9d-96c5-899c3fc54884",
   "metadata": {},
   "outputs": [],
   "source": [
    "x.extend([34,55])"
   ]
  },
  {
   "cell_type": "code",
   "execution_count": 18,
   "id": "15db90a5-9227-4a1b-a5a9-79c62489b990",
   "metadata": {},
   "outputs": [
    {
     "data": {
      "text/plain": [
       "[1, 1, 2, 3, 5, 8, 13, 21, 21, 34, 55]"
      ]
     },
     "execution_count": 18,
     "metadata": {},
     "output_type": "execute_result"
    }
   ],
   "source": [
    "x"
   ]
  },
  {
   "cell_type": "code",
   "execution_count": 19,
   "id": "ee251553-4c79-4d9a-bf54-b5b05b7530f2",
   "metadata": {},
   "outputs": [
    {
     "data": {
      "text/plain": [
       "55"
      ]
     },
     "execution_count": 19,
     "metadata": {},
     "output_type": "execute_result"
    }
   ],
   "source": [
    "x.pop()"
   ]
  },
  {
   "cell_type": "code",
   "execution_count": 20,
   "id": "4f38d8be-71d7-4ffd-89a3-2fc3013d34a0",
   "metadata": {},
   "outputs": [
    {
     "data": {
      "text/plain": [
       "[1, 1, 2, 3, 5, 8, 13, 21, 21, 34]"
      ]
     },
     "execution_count": 20,
     "metadata": {},
     "output_type": "execute_result"
    }
   ],
   "source": [
    "x"
   ]
  },
  {
   "cell_type": "code",
   "execution_count": 21,
   "id": "770f466c-b1f1-439c-bb18-d883453f3b51",
   "metadata": {},
   "outputs": [],
   "source": [
    "x.remove(5)  # Remove an item from the list (by value)"
   ]
  },
  {
   "cell_type": "code",
   "execution_count": 22,
   "id": "dbf3f149-2120-444a-a5b5-3782b7e8bfb8",
   "metadata": {},
   "outputs": [
    {
     "data": {
      "text/plain": [
       "[1, 1, 2, 3, 8, 13, 21, 21, 34]"
      ]
     },
     "execution_count": 22,
     "metadata": {},
     "output_type": "execute_result"
    }
   ],
   "source": [
    "x"
   ]
  },
  {
   "cell_type": "code",
   "execution_count": 23,
   "id": "740d3ff7-42eb-465b-9500-34ac391aaf45",
   "metadata": {},
   "outputs": [],
   "source": [
    "x.insert(4,999)  # Insert an item at a specific point"
   ]
  },
  {
   "cell_type": "code",
   "execution_count": 24,
   "id": "593b75f3-2784-4e26-91de-674b05557c42",
   "metadata": {},
   "outputs": [
    {
     "data": {
      "text/plain": [
       "[1, 1, 2, 3, 999, 8, 13, 21, 21, 34]"
      ]
     },
     "execution_count": 24,
     "metadata": {},
     "output_type": "execute_result"
    }
   ],
   "source": [
    "x"
   ]
  },
  {
   "cell_type": "code",
   "execution_count": 25,
   "id": "076510ec-21cf-4388-a9c1-70a2c5c89596",
   "metadata": {},
   "outputs": [
    {
     "data": {
      "text/plain": [
       "4"
      ]
     },
     "execution_count": 25,
     "metadata": {},
     "output_type": "execute_result"
    }
   ],
   "source": [
    "x.index(999)  # Find the index of an item"
   ]
  },
  {
   "cell_type": "code",
   "execution_count": 26,
   "id": "41922f43-cac2-435b-8c04-c05be311eadf",
   "metadata": {},
   "outputs": [],
   "source": [
    "x.sort()"
   ]
  },
  {
   "cell_type": "code",
   "execution_count": 27,
   "id": "a05cc272-32cc-4cab-a053-b491dbcaaf62",
   "metadata": {},
   "outputs": [
    {
     "data": {
      "text/plain": [
       "[1, 1, 2, 3, 8, 13, 21, 21, 34, 999]"
      ]
     },
     "execution_count": 27,
     "metadata": {},
     "output_type": "execute_result"
    }
   ],
   "source": [
    "x"
   ]
  },
  {
   "cell_type": "code",
   "execution_count": 28,
   "id": "8ee59554-5f91-4395-adfa-a2cd4dbd8893",
   "metadata": {},
   "outputs": [],
   "source": [
    "x.reverse()"
   ]
  },
  {
   "cell_type": "code",
   "execution_count": 29,
   "id": "1d28d88e-3caf-43d6-aaa7-e26499b949a0",
   "metadata": {},
   "outputs": [
    {
     "data": {
      "text/plain": [
       "[999, 34, 21, 21, 13, 8, 3, 2, 1, 1]"
      ]
     },
     "execution_count": 29,
     "metadata": {},
     "output_type": "execute_result"
    }
   ],
   "source": [
    "x"
   ]
  },
  {
   "cell_type": "code",
   "execution_count": 30,
   "id": "767ab56b-e8fe-4f3c-86d2-2db2e1debc81",
   "metadata": {},
   "outputs": [
    {
     "data": {
      "text/plain": [
       "2"
      ]
     },
     "execution_count": 30,
     "metadata": {},
     "output_type": "execute_result"
    }
   ],
   "source": [
    "x.count(1)"
   ]
  },
  {
   "cell_type": "markdown",
   "id": "0f149892-1e16-4f6c-8483-f5854bafa0ee",
   "metadata": {},
   "source": [
    "Be careful when refering to a list.  It does *not* copy anything!"
   ]
  },
  {
   "cell_type": "code",
   "execution_count": 31,
   "id": "59314f46-1565-4b3a-9681-f456578b98b1",
   "metadata": {},
   "outputs": [],
   "source": [
    "z1 = [x,x]"
   ]
  },
  {
   "cell_type": "code",
   "execution_count": 32,
   "id": "b8cd7fdb-fd75-4e1a-80da-a1d0af24a828",
   "metadata": {},
   "outputs": [
    {
     "data": {
      "text/plain": [
       "[[999, 34, 21, 21, 13, 8, 3, 2, 1, 1], [999, 34, 21, 21, 13, 8, 3, 2, 1, 1]]"
      ]
     },
     "execution_count": 32,
     "metadata": {},
     "output_type": "execute_result"
    }
   ],
   "source": [
    "z1"
   ]
  },
  {
   "cell_type": "code",
   "execution_count": 33,
   "id": "9a159798-665c-44e1-bd64-70af9ffd93a9",
   "metadata": {},
   "outputs": [],
   "source": [
    "x[0] = 5"
   ]
  },
  {
   "cell_type": "code",
   "execution_count": 34,
   "id": "db9a4614-61bf-449c-95e4-fa1cc95c3500",
   "metadata": {},
   "outputs": [
    {
     "data": {
      "text/plain": [
       "[[5, 34, 21, 21, 13, 8, 3, 2, 1, 1], [5, 34, 21, 21, 13, 8, 3, 2, 1, 1]]"
      ]
     },
     "execution_count": 34,
     "metadata": {},
     "output_type": "execute_result"
    }
   ],
   "source": [
    "z1"
   ]
  },
  {
   "cell_type": "code",
   "execution_count": 35,
   "id": "a0562a22-8bd8-4f00-a26b-611051399a60",
   "metadata": {},
   "outputs": [],
   "source": [
    "z2 = [x.copy(),x.copy()]\n"
   ]
  },
  {
   "cell_type": "code",
   "execution_count": 36,
   "id": "3fa4e764-66f6-420b-97f4-513e28dd3747",
   "metadata": {},
   "outputs": [
    {
     "data": {
      "text/plain": [
       "[[5, 34, 21, 21, 13, 8, 3, 2, 1, 1], [5, 34, 21, 21, 13, 8, 3, 2, 1, 1]]"
      ]
     },
     "execution_count": 36,
     "metadata": {},
     "output_type": "execute_result"
    }
   ],
   "source": [
    "z2"
   ]
  },
  {
   "cell_type": "code",
   "execution_count": 37,
   "id": "87ad2580-265b-4b66-b703-3ebd06b3f354",
   "metadata": {},
   "outputs": [],
   "source": [
    "x[0]=123"
   ]
  },
  {
   "cell_type": "code",
   "execution_count": 38,
   "id": "29747a7d-72d3-4c0c-8dd1-491cac6c8e8f",
   "metadata": {},
   "outputs": [
    {
     "data": {
      "text/plain": [
       "[[5, 34, 21, 21, 13, 8, 3, 2, 1, 1], [5, 34, 21, 21, 13, 8, 3, 2, 1, 1]]"
      ]
     },
     "execution_count": 38,
     "metadata": {},
     "output_type": "execute_result"
    }
   ],
   "source": [
    "z2"
   ]
  },
  {
   "cell_type": "code",
   "execution_count": 39,
   "id": "6545fc62-87a7-49de-bfb2-7684ffd2cae0",
   "metadata": {},
   "outputs": [
    {
     "data": {
      "text/plain": [
       "[[123, 34, 21, 21, 13, 8, 3, 2, 1, 1], [123, 34, 21, 21, 13, 8, 3, 2, 1, 1]]"
      ]
     },
     "execution_count": 39,
     "metadata": {},
     "output_type": "execute_result"
    }
   ],
   "source": [
    "z1"
   ]
  },
  {
   "cell_type": "code",
   "execution_count": 45,
   "id": "ed512ada",
   "metadata": {},
   "outputs": [],
   "source": [
    "def inc(n):\n",
    "    return n + 1"
   ]
  },
  {
   "cell_type": "code",
   "execution_count": 46,
   "id": "5524aaae",
   "metadata": {},
   "outputs": [
    {
     "data": {
      "text/plain": [
       "<map at 0x7f36e858adf0>"
      ]
     },
     "execution_count": 46,
     "metadata": {},
     "output_type": "execute_result"
    }
   ],
   "source": [
    "map(inc,x)"
   ]
  },
  {
   "cell_type": "code",
   "execution_count": 47,
   "id": "8848a69e",
   "metadata": {},
   "outputs": [
    {
     "data": {
      "text/plain": [
       "[124, 35, 22, 22, 14, 9, 4, 3, 2, 2]"
      ]
     },
     "execution_count": 47,
     "metadata": {},
     "output_type": "execute_result"
    }
   ],
   "source": [
    "list(map(inc,x))"
   ]
  },
  {
   "cell_type": "code",
   "execution_count": null,
   "id": "542c4101",
   "metadata": {},
   "outputs": [],
   "source": []
  }
 ],
 "metadata": {
  "kernelspec": {
   "display_name": "Python 3",
   "language": "python",
   "name": "python3"
  },
  "language_info": {
   "codemirror_mode": {
    "name": "ipython",
    "version": 3
   },
   "file_extension": ".py",
   "mimetype": "text/x-python",
   "name": "python",
   "nbconvert_exporter": "python",
   "pygments_lexer": "ipython3",
   "version": "3.9.6"
  }
 },
 "nbformat": 4,
 "nbformat_minor": 5
}
